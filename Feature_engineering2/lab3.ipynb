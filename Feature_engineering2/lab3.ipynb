{
 "cells": [
  {
   "cell_type": "code",
   "execution_count": 1,
   "metadata": {},
   "outputs": [],
   "source": [
    "import pandas as pd\n",
    "import numpy as np"
   ]
  },
  {
   "cell_type": "markdown",
   "metadata": {},
   "source": [
    "# ZADANIE 1"
   ]
  },
  {
   "cell_type": "code",
   "execution_count": 2,
   "metadata": {},
   "outputs": [],
   "source": [
    "df = pd.read_csv(\"C://Users/48510/Desktop/ML/datalab2.csv\")"
   ]
  },
  {
   "cell_type": "markdown",
   "metadata": {},
   "source": [
    "# ZADANIE 2"
   ]
  },
  {
   "cell_type": "code",
   "execution_count": 3,
   "metadata": {},
   "outputs": [],
   "source": [
    "from sklearn.model_selection import train_test_split"
   ]
  },
  {
   "cell_type": "markdown",
   "metadata": {},
   "source": [
    "#### funkcja train_test_split dzieli zbiór danych wejściowe na dwie części losowych podzbiorów: dane testowe i treningowe"
   ]
  },
  {
   "cell_type": "markdown",
   "metadata": {},
   "source": [
    "# ZADANIE 3"
   ]
  },
  {
   "cell_type": "code",
   "execution_count": 4,
   "metadata": {},
   "outputs": [],
   "source": [
    " col_name=['cabin','CabinReduced','sex']"
   ]
  },
  {
   "cell_type": "markdown",
   "metadata": {},
   "source": [
    "# ZADANIE 4"
   ]
  },
  {
   "cell_type": "code",
   "execution_count": 5,
   "metadata": {},
   "outputs": [
    {
     "name": "stdout",
     "output_type": "stream",
     "text": [
      "(916, 3) (393, 3) (916,) (393,)\n"
     ]
    }
   ],
   "source": [
    "X_train, X_test, y_train, y_test = train_test_split(df[col_name],df['survived'], test_size=0.30, random_state=0)\n",
    "print(X_train.shape, X_test.shape, y_train.shape, y_test.shape)"
   ]
  },
  {
   "cell_type": "markdown",
   "metadata": {},
   "source": [
    "#### zbiór danych został podzielony w skali: 70% zbioru wejsciowego to dane treningowe, a 30% testowe. X_train zawiera  kolumny na podstawie ktorych zbior bedzie trenowany a w y_train są etykiety które bedą przypisywane na podstawie danych z X_train. Taki sam podział dla zbioru testowego X_test- dane na podstawie których wykonuje się klasyfikację, y_test -etykiety przypisywane na podstawie klasyfikacji\n",
    "    "
   ]
  },
  {
   "cell_type": "markdown",
   "metadata": {},
   "source": [
    "# ZADANIE 5"
   ]
  },
  {
   "cell_type": "code",
   "execution_count": 6,
   "metadata": {},
   "outputs": [
    {
     "data": {
      "text/plain": [
       "37"
      ]
     },
     "execution_count": 6,
     "metadata": {},
     "output_type": "execute_result"
    }
   ],
   "source": [
    "Unique_test = [x for x in X_test.cabin.unique() if x not in X_train.cabin.unique()]\n",
    "len(Unique_test)\n",
    "\n",
    "\n"
   ]
  },
  {
   "cell_type": "code",
   "execution_count": 7,
   "metadata": {},
   "outputs": [
    {
     "data": {
      "text/plain": [
       "0"
      ]
     },
     "execution_count": 7,
     "metadata": {},
     "output_type": "execute_result"
    }
   ],
   "source": [
    "Unique_test = [x for x in X_test.CabinReduced.unique() if x not in X_train.CabinReduced.unique()]\n",
    "len(Unique_test)"
   ]
  },
  {
   "cell_type": "code",
   "execution_count": 8,
   "metadata": {},
   "outputs": [
    {
     "data": {
      "text/plain": [
       "0"
      ]
     },
     "execution_count": 8,
     "metadata": {},
     "output_type": "execute_result"
    }
   ],
   "source": [
    "Unique_test = [x for x in X_test.sex.unique() if x not in X_train.sex.unique()]\n",
    "len(Unique_test)"
   ]
  },
  {
   "cell_type": "markdown",
   "metadata": {},
   "source": [
    "#### rozklad dla zmiennych CabinReduced i sex jest rownomierny. Dla zmiennej cabin brakuje 37 wwartości do zbiory równomiernego"
   ]
  },
  {
   "cell_type": "markdown",
   "metadata": {},
   "source": [
    "# ZADANIE 6"
   ]
  },
  {
   "cell_type": "code",
   "execution_count": 9,
   "metadata": {},
   "outputs": [
    {
     "data": {
      "text/plain": [
       "{nan: 0,\n",
       " 'C39': 1,\n",
       " 'F G73': 2,\n",
       " 'B28': 3,\n",
       " 'B49': 4,\n",
       " 'C116': 5,\n",
       " 'C90': 6,\n",
       " 'B4': 7,\n",
       " 'C101': 8,\n",
       " 'E60': 9,\n",
       " 'C65': 10,\n",
       " 'A31': 11,\n",
       " 'E33': 12,\n",
       " 'B3': 13,\n",
       " 'D34': 14,\n",
       " 'A6': 15,\n",
       " 'E46': 16,\n",
       " 'D': 17,\n",
       " 'D10 D12': 18,\n",
       " 'C91': 19,\n",
       " 'B36': 20,\n",
       " 'E67': 21,\n",
       " 'D20': 22,\n",
       " 'B80': 23,\n",
       " 'D43': 24,\n",
       " 'B52 B54 B56': 25,\n",
       " 'B102': 26,\n",
       " 'C99': 27,\n",
       " 'D47': 28,\n",
       " 'E34': 29,\n",
       " 'B101': 30,\n",
       " 'D7': 31,\n",
       " 'C28': 32,\n",
       " 'C50': 33,\n",
       " 'A9': 34,\n",
       " 'B96 B98': 35,\n",
       " 'A10': 36,\n",
       " 'F38': 37,\n",
       " 'B94': 38,\n",
       " 'E38': 39,\n",
       " 'F E46': 40,\n",
       " 'C32': 41,\n",
       " 'B61': 42,\n",
       " 'C83': 43,\n",
       " 'E63': 44,\n",
       " 'B73': 45,\n",
       " 'C82': 46,\n",
       " 'E77': 47,\n",
       " 'D49': 48,\n",
       " 'B37': 49,\n",
       " 'C123': 50,\n",
       " 'A36': 51,\n",
       " 'A11': 52,\n",
       " 'F E69': 53,\n",
       " 'C55 C57': 54,\n",
       " 'C111': 55,\n",
       " 'E24': 56,\n",
       " 'F4': 57,\n",
       " 'A14': 58,\n",
       " 'B24': 59,\n",
       " 'C6': 60,\n",
       " 'B78': 61,\n",
       " 'A7': 62,\n",
       " 'E8': 63,\n",
       " 'C118': 64,\n",
       " 'D17': 65,\n",
       " 'D6': 66,\n",
       " 'C80': 67,\n",
       " 'C126': 68,\n",
       " 'D46': 69,\n",
       " 'A26': 70,\n",
       " 'A16': 71,\n",
       " 'D45': 72,\n",
       " 'B10': 73,\n",
       " 'C78': 74,\n",
       " 'B57 B59 B63 B66': 75,\n",
       " 'B22': 76,\n",
       " 'B5': 77,\n",
       " 'C105': 78,\n",
       " 'C62 C64': 79,\n",
       " 'C7': 80,\n",
       " 'F2': 81,\n",
       " 'D37': 82,\n",
       " 'C125': 83,\n",
       " 'D28': 84,\n",
       " 'B35': 85,\n",
       " 'B71': 86,\n",
       " 'C22 C26': 87,\n",
       " 'C95': 88,\n",
       " 'B39': 89,\n",
       " 'F G63': 90,\n",
       " 'C148': 91,\n",
       " 'E36': 92,\n",
       " 'C23 C25 C27': 93,\n",
       " 'D22': 94,\n",
       " 'F E57': 95,\n",
       " 'E12': 96,\n",
       " 'E101': 97,\n",
       " 'A29': 98,\n",
       " 'G6': 99,\n",
       " 'B69': 100,\n",
       " 'C68': 101,\n",
       " 'D9': 102,\n",
       " 'B82 B84': 103,\n",
       " 'A19': 104,\n",
       " 'A5': 105,\n",
       " 'B30': 106,\n",
       " 'E40': 107,\n",
       " 'A32': 108,\n",
       " 'B45': 109,\n",
       " 'D38': 110,\n",
       " 'T': 111,\n",
       " 'C31': 112,\n",
       " 'E31': 113,\n",
       " 'C104': 114,\n",
       " 'C86': 115,\n",
       " 'D48': 116,\n",
       " 'D56': 117,\n",
       " 'E25': 118,\n",
       " 'B79': 119,\n",
       " 'F': 120,\n",
       " 'D40': 121,\n",
       " 'E52': 122,\n",
       " 'C93': 123,\n",
       " 'E17': 124,\n",
       " 'C124': 125,\n",
       " 'B11': 126,\n",
       " 'E44': 127,\n",
       " 'B20': 128,\n",
       " 'C30': 129,\n",
       " 'B77': 130,\n",
       " 'C52': 131,\n",
       " 'D30': 132,\n",
       " 'A34': 133,\n",
       " 'C106': 134,\n",
       " 'C46': 135,\n",
       " 'E45': 136,\n",
       " 'D36': 137,\n",
       " 'B42': 138,\n",
       " 'B38': 139,\n",
       " 'D50': 140,\n",
       " 'B26': 141,\n",
       " 'C45': 142,\n",
       " 'E49': 143,\n",
       " 'E39 E41': 144,\n",
       " 'B58 B60': 145,\n",
       " 'A21': 146,\n",
       " 'E50': 147,\n",
       " 'D26': 148,\n",
       " 'C85': 149,\n",
       " 'C128': 150,\n",
       " 'D15': 151,\n",
       " 'F33': 152,\n",
       " 'C89': 153,\n",
       " 'D19': 154,\n",
       " 'C103': 155,\n",
       " 'C49': 156,\n",
       " 'E68': 157,\n",
       " 'B41': 158,\n",
       " 'A18': 159,\n",
       " 'D21': 160,\n",
       " 'C53': 161,\n",
       " 'D33': 162,\n",
       " 'A24': 163,\n",
       " 'C130': 164,\n",
       " 'C54': 165,\n",
       " 'B19': 166,\n",
       " 'C110': 167,\n",
       " 'C51': 168,\n",
       " 'D35': 169,\n",
       " 'C2': 170,\n",
       " 'B51 B53 B55': 171,\n",
       " 'B18': 172,\n",
       " 'A23': 173,\n",
       " 'C132': 174,\n",
       " 'A20': 175,\n",
       " 'C47': 176,\n",
       " 'B50': 177,\n",
       " 'D11': 178,\n",
       " 'C70': 179,\n",
       " 'C92': 180,\n",
       " 'E121': 181,\n",
       " 'C97': 182,\n",
       " 'E10': 183,\n",
       " 'C87': 184,\n",
       " 'E58': 185,\n",
       " 'B86': 186}"
      ]
     },
     "execution_count": 9,
     "metadata": {},
     "output_type": "execute_result"
    }
   ],
   "source": [
    "dict_cabin={}\n",
    "x=pd.concat([X_train['cabin'],X_test['cabin']])\n",
    "col=list(set(x))\n",
    "\n",
    "for idx,val in enumerate(col):\n",
    "    dict_cabin[val]=idx\n",
    "\n",
    "dict_cabin"
   ]
  },
  {
   "cell_type": "code",
   "execution_count": 10,
   "metadata": {},
   "outputs": [
    {
     "data": {
      "text/plain": [
       "{'A': 0, 'F': 1, 'D': 2, 'T': 3, 'G': 4, 'B': 5, 'E': 6, 'n': 7, 'C': 8}"
      ]
     },
     "execution_count": 10,
     "metadata": {},
     "output_type": "execute_result"
    }
   ],
   "source": [
    "dict_cr={}\n",
    "x=pd.concat([X_train['CabinReduced'],X_test['CabinReduced']])\n",
    "col=list(set(x))\n",
    "\n",
    "for idx,val in enumerate(col):\n",
    "    dict_cr[val]=idx\n",
    "\n",
    "dict_cr"
   ]
  },
  {
   "cell_type": "code",
   "execution_count": 11,
   "metadata": {},
   "outputs": [
    {
     "data": {
      "text/plain": [
       "{'female': 0, 'male': 1}"
      ]
     },
     "execution_count": 11,
     "metadata": {},
     "output_type": "execute_result"
    }
   ],
   "source": [
    "dict_sex={}\n",
    "x=pd.concat([X_train['sex'],X_test['sex']])\n",
    "col=list(set(x))\n",
    "\n",
    "for idx,val in enumerate(col):\n",
    "    dict_sex[val]=idx\n",
    "\n",
    "dict_sex"
   ]
  },
  {
   "cell_type": "markdown",
   "metadata": {},
   "source": [
    "# ZADANIE 7"
   ]
  },
  {
   "cell_type": "code",
   "execution_count": 12,
   "metadata": {},
   "outputs": [
    {
     "data": {
      "text/html": [
       "<div>\n",
       "<style scoped>\n",
       "    .dataframe tbody tr th:only-of-type {\n",
       "        vertical-align: middle;\n",
       "    }\n",
       "\n",
       "    .dataframe tbody tr th {\n",
       "        vertical-align: top;\n",
       "    }\n",
       "\n",
       "    .dataframe thead th {\n",
       "        text-align: right;\n",
       "    }\n",
       "</style>\n",
       "<table border=\"1\" class=\"dataframe\">\n",
       "  <thead>\n",
       "    <tr style=\"text-align: right;\">\n",
       "      <th></th>\n",
       "      <th>cabin_map</th>\n",
       "      <th>cabin</th>\n",
       "    </tr>\n",
       "  </thead>\n",
       "  <tbody>\n",
       "    <tr>\n",
       "      <th>501</th>\n",
       "      <td>0</td>\n",
       "      <td>NaN</td>\n",
       "    </tr>\n",
       "    <tr>\n",
       "      <th>588</th>\n",
       "      <td>0</td>\n",
       "      <td>NaN</td>\n",
       "    </tr>\n",
       "    <tr>\n",
       "      <th>402</th>\n",
       "      <td>0</td>\n",
       "      <td>NaN</td>\n",
       "    </tr>\n",
       "    <tr>\n",
       "      <th>1193</th>\n",
       "      <td>0</td>\n",
       "      <td>NaN</td>\n",
       "    </tr>\n",
       "    <tr>\n",
       "      <th>686</th>\n",
       "      <td>0</td>\n",
       "      <td>NaN</td>\n",
       "    </tr>\n",
       "    <tr>\n",
       "      <th>...</th>\n",
       "      <td>...</td>\n",
       "      <td>...</td>\n",
       "    </tr>\n",
       "    <tr>\n",
       "      <th>763</th>\n",
       "      <td>0</td>\n",
       "      <td>NaN</td>\n",
       "    </tr>\n",
       "    <tr>\n",
       "      <th>835</th>\n",
       "      <td>0</td>\n",
       "      <td>NaN</td>\n",
       "    </tr>\n",
       "    <tr>\n",
       "      <th>1216</th>\n",
       "      <td>0</td>\n",
       "      <td>NaN</td>\n",
       "    </tr>\n",
       "    <tr>\n",
       "      <th>559</th>\n",
       "      <td>0</td>\n",
       "      <td>NaN</td>\n",
       "    </tr>\n",
       "    <tr>\n",
       "      <th>684</th>\n",
       "      <td>0</td>\n",
       "      <td>NaN</td>\n",
       "    </tr>\n",
       "  </tbody>\n",
       "</table>\n",
       "<p>916 rows × 2 columns</p>\n",
       "</div>"
      ],
      "text/plain": [
       "      cabin_map cabin\n",
       "501           0   NaN\n",
       "588           0   NaN\n",
       "402           0   NaN\n",
       "1193          0   NaN\n",
       "686           0   NaN\n",
       "...         ...   ...\n",
       "763           0   NaN\n",
       "835           0   NaN\n",
       "1216          0   NaN\n",
       "559           0   NaN\n",
       "684           0   NaN\n",
       "\n",
       "[916 rows x 2 columns]"
      ]
     },
     "execution_count": 12,
     "metadata": {},
     "output_type": "execute_result"
    }
   ],
   "source": [
    "X_train['cabin_map'] = X_train['cabin'].map(dict_cabin)\n",
    "X_test['cabin_map'] = X_test['cabin'].map(dict_cabin)\n",
    "X_train[['cabin_map','cabin']]"
   ]
  },
  {
   "cell_type": "code",
   "execution_count": 13,
   "metadata": {},
   "outputs": [
    {
     "data": {
      "text/html": [
       "<div>\n",
       "<style scoped>\n",
       "    .dataframe tbody tr th:only-of-type {\n",
       "        vertical-align: middle;\n",
       "    }\n",
       "\n",
       "    .dataframe tbody tr th {\n",
       "        vertical-align: top;\n",
       "    }\n",
       "\n",
       "    .dataframe thead th {\n",
       "        text-align: right;\n",
       "    }\n",
       "</style>\n",
       "<table border=\"1\" class=\"dataframe\">\n",
       "  <thead>\n",
       "    <tr style=\"text-align: right;\">\n",
       "      <th></th>\n",
       "      <th>cabin_reduced_map</th>\n",
       "      <th>CabinReduced</th>\n",
       "    </tr>\n",
       "  </thead>\n",
       "  <tbody>\n",
       "    <tr>\n",
       "      <th>501</th>\n",
       "      <td>7</td>\n",
       "      <td>n</td>\n",
       "    </tr>\n",
       "    <tr>\n",
       "      <th>588</th>\n",
       "      <td>7</td>\n",
       "      <td>n</td>\n",
       "    </tr>\n",
       "    <tr>\n",
       "      <th>402</th>\n",
       "      <td>7</td>\n",
       "      <td>n</td>\n",
       "    </tr>\n",
       "    <tr>\n",
       "      <th>1193</th>\n",
       "      <td>7</td>\n",
       "      <td>n</td>\n",
       "    </tr>\n",
       "    <tr>\n",
       "      <th>686</th>\n",
       "      <td>7</td>\n",
       "      <td>n</td>\n",
       "    </tr>\n",
       "    <tr>\n",
       "      <th>...</th>\n",
       "      <td>...</td>\n",
       "      <td>...</td>\n",
       "    </tr>\n",
       "    <tr>\n",
       "      <th>763</th>\n",
       "      <td>7</td>\n",
       "      <td>n</td>\n",
       "    </tr>\n",
       "    <tr>\n",
       "      <th>835</th>\n",
       "      <td>7</td>\n",
       "      <td>n</td>\n",
       "    </tr>\n",
       "    <tr>\n",
       "      <th>1216</th>\n",
       "      <td>7</td>\n",
       "      <td>n</td>\n",
       "    </tr>\n",
       "    <tr>\n",
       "      <th>559</th>\n",
       "      <td>7</td>\n",
       "      <td>n</td>\n",
       "    </tr>\n",
       "    <tr>\n",
       "      <th>684</th>\n",
       "      <td>7</td>\n",
       "      <td>n</td>\n",
       "    </tr>\n",
       "  </tbody>\n",
       "</table>\n",
       "<p>916 rows × 2 columns</p>\n",
       "</div>"
      ],
      "text/plain": [
       "      cabin_reduced_map CabinReduced\n",
       "501                   7            n\n",
       "588                   7            n\n",
       "402                   7            n\n",
       "1193                  7            n\n",
       "686                   7            n\n",
       "...                 ...          ...\n",
       "763                   7            n\n",
       "835                   7            n\n",
       "1216                  7            n\n",
       "559                   7            n\n",
       "684                   7            n\n",
       "\n",
       "[916 rows x 2 columns]"
      ]
     },
     "execution_count": 13,
     "metadata": {},
     "output_type": "execute_result"
    }
   ],
   "source": [
    "X_train['cabin_reduced_map'] = X_train['CabinReduced'].map(dict_cr)\n",
    "X_test['cabin_reduced_map'] = X_test['CabinReduced'].map(dict_cr)\n",
    "X_train[['cabin_reduced_map','CabinReduced']]"
   ]
  },
  {
   "cell_type": "code",
   "execution_count": 14,
   "metadata": {},
   "outputs": [
    {
     "data": {
      "text/html": [
       "<div>\n",
       "<style scoped>\n",
       "    .dataframe tbody tr th:only-of-type {\n",
       "        vertical-align: middle;\n",
       "    }\n",
       "\n",
       "    .dataframe tbody tr th {\n",
       "        vertical-align: top;\n",
       "    }\n",
       "\n",
       "    .dataframe thead th {\n",
       "        text-align: right;\n",
       "    }\n",
       "</style>\n",
       "<table border=\"1\" class=\"dataframe\">\n",
       "  <thead>\n",
       "    <tr style=\"text-align: right;\">\n",
       "      <th></th>\n",
       "      <th>sex_map</th>\n",
       "      <th>sex</th>\n",
       "    </tr>\n",
       "  </thead>\n",
       "  <tbody>\n",
       "    <tr>\n",
       "      <th>501</th>\n",
       "      <td>0</td>\n",
       "      <td>female</td>\n",
       "    </tr>\n",
       "    <tr>\n",
       "      <th>588</th>\n",
       "      <td>0</td>\n",
       "      <td>female</td>\n",
       "    </tr>\n",
       "    <tr>\n",
       "      <th>402</th>\n",
       "      <td>0</td>\n",
       "      <td>female</td>\n",
       "    </tr>\n",
       "    <tr>\n",
       "      <th>1193</th>\n",
       "      <td>1</td>\n",
       "      <td>male</td>\n",
       "    </tr>\n",
       "    <tr>\n",
       "      <th>686</th>\n",
       "      <td>0</td>\n",
       "      <td>female</td>\n",
       "    </tr>\n",
       "    <tr>\n",
       "      <th>...</th>\n",
       "      <td>...</td>\n",
       "      <td>...</td>\n",
       "    </tr>\n",
       "    <tr>\n",
       "      <th>763</th>\n",
       "      <td>0</td>\n",
       "      <td>female</td>\n",
       "    </tr>\n",
       "    <tr>\n",
       "      <th>835</th>\n",
       "      <td>1</td>\n",
       "      <td>male</td>\n",
       "    </tr>\n",
       "    <tr>\n",
       "      <th>1216</th>\n",
       "      <td>0</td>\n",
       "      <td>female</td>\n",
       "    </tr>\n",
       "    <tr>\n",
       "      <th>559</th>\n",
       "      <td>0</td>\n",
       "      <td>female</td>\n",
       "    </tr>\n",
       "    <tr>\n",
       "      <th>684</th>\n",
       "      <td>0</td>\n",
       "      <td>female</td>\n",
       "    </tr>\n",
       "  </tbody>\n",
       "</table>\n",
       "<p>916 rows × 2 columns</p>\n",
       "</div>"
      ],
      "text/plain": [
       "      sex_map     sex\n",
       "501         0  female\n",
       "588         0  female\n",
       "402         0  female\n",
       "1193        1    male\n",
       "686         0  female\n",
       "...       ...     ...\n",
       "763         0  female\n",
       "835         1    male\n",
       "1216        0  female\n",
       "559         0  female\n",
       "684         0  female\n",
       "\n",
       "[916 rows x 2 columns]"
      ]
     },
     "execution_count": 14,
     "metadata": {},
     "output_type": "execute_result"
    }
   ],
   "source": [
    "X_train['sex_map'] = X_train['sex'].map(dict_sex)\n",
    "X_test['sex_map'] = X_test['sex'].map(dict_sex)\n",
    "X_train[['sex_map','sex']]"
   ]
  },
  {
   "cell_type": "code",
   "execution_count": 15,
   "metadata": {},
   "outputs": [],
   "source": [
    "X_train_map=X_train[['cabin_map','cabin_reduced_map','sex_map']]\n",
    "X_test_map=X_test[['cabin_map','cabin_reduced_map','sex_map']]"
   ]
  },
  {
   "cell_type": "markdown",
   "metadata": {},
   "source": [
    "# ZADANIE 8"
   ]
  },
  {
   "cell_type": "code",
   "execution_count": 16,
   "metadata": {},
   "outputs": [
    {
     "data": {
      "text/plain": [
       "cabin_map            0\n",
       "cabin_reduced_map    0\n",
       "sex_map              0\n",
       "dtype: int64"
      ]
     },
     "execution_count": 16,
     "metadata": {},
     "output_type": "execute_result"
    }
   ],
   "source": [
    "X_train_map.isna().sum()"
   ]
  },
  {
   "cell_type": "code",
   "execution_count": 17,
   "metadata": {},
   "outputs": [
    {
     "data": {
      "text/plain": [
       "cabin_map            0\n",
       "cabin_reduced_map    0\n",
       "sex_map              0\n",
       "dtype: int64"
      ]
     },
     "execution_count": 17,
     "metadata": {},
     "output_type": "execute_result"
    }
   ],
   "source": [
    "X_test_map.isna().sum()"
   ]
  },
  {
   "cell_type": "code",
   "execution_count": 18,
   "metadata": {},
   "outputs": [
    {
     "data": {
      "text/plain": [
       "cabin                702\n",
       "CabinReduced           0\n",
       "sex                    0\n",
       "cabin_map              0\n",
       "cabin_reduced_map      0\n",
       "sex_map                0\n",
       "dtype: int64"
      ]
     },
     "execution_count": 18,
     "metadata": {},
     "output_type": "execute_result"
    }
   ],
   "source": [
    "X_train.isna().sum()"
   ]
  },
  {
   "cell_type": "code",
   "execution_count": 19,
   "metadata": {},
   "outputs": [
    {
     "data": {
      "text/plain": [
       "cabin                312\n",
       "CabinReduced           0\n",
       "sex                    0\n",
       "cabin_map              0\n",
       "cabin_reduced_map      0\n",
       "sex_map                0\n",
       "dtype: int64"
      ]
     },
     "execution_count": 19,
     "metadata": {},
     "output_type": "execute_result"
    }
   ],
   "source": [
    "X_test.isna().sum()"
   ]
  },
  {
   "cell_type": "markdown",
   "metadata": {},
   "source": [
    "# ZADANIE 9"
   ]
  },
  {
   "cell_type": "code",
   "execution_count": 20,
   "metadata": {},
   "outputs": [],
   "source": [
    "X_train['cabin'] = df['cabin'].replace(np.nan, 0)"
   ]
  },
  {
   "cell_type": "code",
   "execution_count": 21,
   "metadata": {},
   "outputs": [],
   "source": [
    "X_test['cabin'] = df['cabin'].replace(np.nan, 0)"
   ]
  },
  {
   "cell_type": "markdown",
   "metadata": {},
   "source": [
    "#### Zmodyfikowane zbiory danych nie mają wartości NaN ponieważ w wyniku mapowania zostały już zastąpione. W przypadku zmiennej cabin kardynalność jest wysoka, więc zastępując NaN wartością 0 stworzymy nową etykietę, do której wpadnie duża grupa co może niekorzystnie wpłynąc na dalsze analizy.\n"
   ]
  },
  {
   "cell_type": "markdown",
   "metadata": {},
   "source": [
    "# ZADANIE 10"
   ]
  },
  {
   "cell_type": "markdown",
   "metadata": {},
   "source": [
    "###### Porównaj ile unikalnych wartości jest w zbiorze treningowym, a ile w zbiorze testowym (funkcja len)"
   ]
  },
  {
   "cell_type": "code",
   "execution_count": 22,
   "metadata": {},
   "outputs": [
    {
     "data": {
      "text/plain": [
       "36"
      ]
     },
     "execution_count": 22,
     "metadata": {},
     "output_type": "execute_result"
    }
   ],
   "source": [
    "Unique_map_test1 = [x for x in X_test_map.cabin_map.unique() if x not in X_train_map.cabin_map.unique()]\n",
    "len(Unique_map_test1)"
   ]
  },
  {
   "cell_type": "code",
   "execution_count": 23,
   "metadata": {},
   "outputs": [
    {
     "data": {
      "text/plain": [
       "0"
      ]
     },
     "execution_count": 23,
     "metadata": {},
     "output_type": "execute_result"
    }
   ],
   "source": [
    "Unique_map_test2 = [x for x in X_test_map.cabin_reduced_map.unique() if x not in X_train_map.cabin_reduced_map.unique()]\n",
    "len(Unique_map_test2)"
   ]
  },
  {
   "cell_type": "code",
   "execution_count": 24,
   "metadata": {},
   "outputs": [
    {
     "data": {
      "text/plain": [
       "0"
      ]
     },
     "execution_count": 24,
     "metadata": {},
     "output_type": "execute_result"
    }
   ],
   "source": [
    "Unique_map_test3 = [x for x in X_test_map.sex_map.unique() if x not in X_train_map.sex_map.unique()]\n",
    "len(Unique_map_test3)"
   ]
  },
  {
   "cell_type": "code",
   "execution_count": 25,
   "metadata": {},
   "outputs": [
    {
     "name": "stdout",
     "output_type": "stream",
     "text": [
      "Liczba etykiet zmiennej cabin: 71\n",
      "Liczba etykiet zmiennej CabinReduced: 8\n",
      "Liczba etykiet zmiennej sex: 2\n",
      "Liczba etykiet zmiennej cabin_map: 71\n",
      "Liczba etykiet zmiennej cabin_reduced_map: 8\n",
      "Liczba etykiet zmiennej sex_map: 2\n"
     ]
    }
   ],
   "source": [
    "for col in X_test.columns:\n",
    "    print('Liczba etykiet zmiennej {}: {}'.format(col,len(X_test[col].unique())))"
   ]
  },
  {
   "cell_type": "code",
   "execution_count": 26,
   "metadata": {},
   "outputs": [
    {
     "name": "stdout",
     "output_type": "stream",
     "text": [
      "Liczba etykiet zmiennej cabin: 151\n",
      "Liczba etykiet zmiennej CabinReduced: 9\n",
      "Liczba etykiet zmiennej sex: 2\n",
      "Liczba etykiet zmiennej cabin_map: 151\n",
      "Liczba etykiet zmiennej cabin_reduced_map: 9\n",
      "Liczba etykiet zmiennej sex_map: 2\n"
     ]
    }
   ],
   "source": [
    "for col in X_train.columns:\n",
    "    print('Liczba etykiet zmiennej {}: {}'.format(col,len(X_train[col].unique())))"
   ]
  },
  {
   "cell_type": "markdown",
   "metadata": {},
   "source": [
    "#### Jaka jest różnica pomiędzy liczbą etykiet przed i po redukcji oraz mapowaniu?"
   ]
  },
  {
   "cell_type": "markdown",
   "metadata": {},
   "source": [
    "###### W zbiorze testowym jak i tereningowym liczba etykiet przed i po mapowaniu się nie różni. Różni się liczba etykiet po redukcji - liczba etykiet cabin po redukcji znacząco zmalała."
   ]
  },
  {
   "cell_type": "markdown",
   "metadata": {},
   "source": [
    "#### Czy cały proces, który został do tej pory wykonany może mieć wpływ na końcowy wynik predykcji i jakość modelu?"
   ]
  },
  {
   "cell_type": "markdown",
   "metadata": {},
   "source": [
    "##### cały proces może mieć wpływ na wynik końcowy przez zmianę NaN na 0, jak również redukcję etykiet w zmiennej cabin(która była zrobiona w lab2) . Po zmianie zmiennej z kategorycznej na numeryczną przez mapowanie jesteśmy w stanie  wykorzystać te zmienne w modelu, wię może to poprawić wartości predykcji i jakości modelu."
   ]
  },
  {
   "cell_type": "code",
   "execution_count": 29,
   "metadata": {},
   "outputs": [
    {
     "data": {
      "text/html": [
       "<div>\n",
       "<style scoped>\n",
       "    .dataframe tbody tr th:only-of-type {\n",
       "        vertical-align: middle;\n",
       "    }\n",
       "\n",
       "    .dataframe tbody tr th {\n",
       "        vertical-align: top;\n",
       "    }\n",
       "\n",
       "    .dataframe thead th {\n",
       "        text-align: right;\n",
       "    }\n",
       "</style>\n",
       "<table border=\"1\" class=\"dataframe\">\n",
       "  <thead>\n",
       "    <tr style=\"text-align: right;\">\n",
       "      <th></th>\n",
       "      <th>cabin</th>\n",
       "      <th>CabinReduced</th>\n",
       "      <th>sex</th>\n",
       "      <th>cabin_map</th>\n",
       "      <th>cabin_reduced_map</th>\n",
       "      <th>sex_map</th>\n",
       "    </tr>\n",
       "  </thead>\n",
       "  <tbody>\n",
       "    <tr>\n",
       "      <th>1139</th>\n",
       "      <td>0</td>\n",
       "      <td>n</td>\n",
       "      <td>male</td>\n",
       "      <td>0</td>\n",
       "      <td>7</td>\n",
       "      <td>1</td>\n",
       "    </tr>\n",
       "    <tr>\n",
       "      <th>533</th>\n",
       "      <td>0</td>\n",
       "      <td>n</td>\n",
       "      <td>female</td>\n",
       "      <td>0</td>\n",
       "      <td>7</td>\n",
       "      <td>0</td>\n",
       "    </tr>\n",
       "    <tr>\n",
       "      <th>459</th>\n",
       "      <td>0</td>\n",
       "      <td>n</td>\n",
       "      <td>male</td>\n",
       "      <td>0</td>\n",
       "      <td>7</td>\n",
       "      <td>1</td>\n",
       "    </tr>\n",
       "    <tr>\n",
       "      <th>1150</th>\n",
       "      <td>0</td>\n",
       "      <td>n</td>\n",
       "      <td>male</td>\n",
       "      <td>0</td>\n",
       "      <td>7</td>\n",
       "      <td>1</td>\n",
       "    </tr>\n",
       "    <tr>\n",
       "      <th>393</th>\n",
       "      <td>0</td>\n",
       "      <td>n</td>\n",
       "      <td>male</td>\n",
       "      <td>0</td>\n",
       "      <td>7</td>\n",
       "      <td>1</td>\n",
       "    </tr>\n",
       "    <tr>\n",
       "      <th>1189</th>\n",
       "      <td>G6</td>\n",
       "      <td>G</td>\n",
       "      <td>female</td>\n",
       "      <td>99</td>\n",
       "      <td>4</td>\n",
       "      <td>0</td>\n",
       "    </tr>\n",
       "    <tr>\n",
       "      <th>5</th>\n",
       "      <td>E12</td>\n",
       "      <td>E</td>\n",
       "      <td>male</td>\n",
       "      <td>96</td>\n",
       "      <td>6</td>\n",
       "      <td>1</td>\n",
       "    </tr>\n",
       "    <tr>\n",
       "      <th>231</th>\n",
       "      <td>C104</td>\n",
       "      <td>C</td>\n",
       "      <td>male</td>\n",
       "      <td>114</td>\n",
       "      <td>8</td>\n",
       "      <td>1</td>\n",
       "    </tr>\n",
       "    <tr>\n",
       "      <th>330</th>\n",
       "      <td>0</td>\n",
       "      <td>n</td>\n",
       "      <td>male</td>\n",
       "      <td>0</td>\n",
       "      <td>7</td>\n",
       "      <td>1</td>\n",
       "    </tr>\n",
       "    <tr>\n",
       "      <th>887</th>\n",
       "      <td>0</td>\n",
       "      <td>n</td>\n",
       "      <td>male</td>\n",
       "      <td>0</td>\n",
       "      <td>7</td>\n",
       "      <td>1</td>\n",
       "    </tr>\n",
       "    <tr>\n",
       "      <th>531</th>\n",
       "      <td>0</td>\n",
       "      <td>n</td>\n",
       "      <td>male</td>\n",
       "      <td>0</td>\n",
       "      <td>7</td>\n",
       "      <td>1</td>\n",
       "    </tr>\n",
       "    <tr>\n",
       "      <th>790</th>\n",
       "      <td>0</td>\n",
       "      <td>n</td>\n",
       "      <td>male</td>\n",
       "      <td>0</td>\n",
       "      <td>7</td>\n",
       "      <td>1</td>\n",
       "    </tr>\n",
       "    <tr>\n",
       "      <th>427</th>\n",
       "      <td>0</td>\n",
       "      <td>n</td>\n",
       "      <td>male</td>\n",
       "      <td>0</td>\n",
       "      <td>7</td>\n",
       "      <td>1</td>\n",
       "    </tr>\n",
       "    <tr>\n",
       "      <th>1260</th>\n",
       "      <td>0</td>\n",
       "      <td>n</td>\n",
       "      <td>female</td>\n",
       "      <td>0</td>\n",
       "      <td>7</td>\n",
       "      <td>0</td>\n",
       "    </tr>\n",
       "    <tr>\n",
       "      <th>251</th>\n",
       "      <td>B57 B59 B63 B66</td>\n",
       "      <td>B</td>\n",
       "      <td>female</td>\n",
       "      <td>75</td>\n",
       "      <td>5</td>\n",
       "      <td>0</td>\n",
       "    </tr>\n",
       "    <tr>\n",
       "      <th>486</th>\n",
       "      <td>0</td>\n",
       "      <td>n</td>\n",
       "      <td>male</td>\n",
       "      <td>0</td>\n",
       "      <td>7</td>\n",
       "      <td>1</td>\n",
       "    </tr>\n",
       "    <tr>\n",
       "      <th>436</th>\n",
       "      <td>0</td>\n",
       "      <td>n</td>\n",
       "      <td>female</td>\n",
       "      <td>0</td>\n",
       "      <td>7</td>\n",
       "      <td>0</td>\n",
       "    </tr>\n",
       "    <tr>\n",
       "      <th>31</th>\n",
       "      <td>A31</td>\n",
       "      <td>A</td>\n",
       "      <td>male</td>\n",
       "      <td>11</td>\n",
       "      <td>0</td>\n",
       "      <td>1</td>\n",
       "    </tr>\n",
       "    <tr>\n",
       "      <th>186</th>\n",
       "      <td>0</td>\n",
       "      <td>n</td>\n",
       "      <td>female</td>\n",
       "      <td>0</td>\n",
       "      <td>7</td>\n",
       "      <td>0</td>\n",
       "    </tr>\n",
       "    <tr>\n",
       "      <th>1051</th>\n",
       "      <td>0</td>\n",
       "      <td>n</td>\n",
       "      <td>male</td>\n",
       "      <td>0</td>\n",
       "      <td>7</td>\n",
       "      <td>1</td>\n",
       "    </tr>\n",
       "  </tbody>\n",
       "</table>\n",
       "</div>"
      ],
      "text/plain": [
       "                cabin CabinReduced     sex  cabin_map  cabin_reduced_map  \\\n",
       "1139                0            n    male          0                  7   \n",
       "533                 0            n  female          0                  7   \n",
       "459                 0            n    male          0                  7   \n",
       "1150                0            n    male          0                  7   \n",
       "393                 0            n    male          0                  7   \n",
       "1189               G6            G  female         99                  4   \n",
       "5                 E12            E    male         96                  6   \n",
       "231              C104            C    male        114                  8   \n",
       "330                 0            n    male          0                  7   \n",
       "887                 0            n    male          0                  7   \n",
       "531                 0            n    male          0                  7   \n",
       "790                 0            n    male          0                  7   \n",
       "427                 0            n    male          0                  7   \n",
       "1260                0            n  female          0                  7   \n",
       "251   B57 B59 B63 B66            B  female         75                  5   \n",
       "486                 0            n    male          0                  7   \n",
       "436                 0            n  female          0                  7   \n",
       "31                A31            A    male         11                  0   \n",
       "186                 0            n  female          0                  7   \n",
       "1051                0            n    male          0                  7   \n",
       "\n",
       "      sex_map  \n",
       "1139        1  \n",
       "533         0  \n",
       "459         1  \n",
       "1150        1  \n",
       "393         1  \n",
       "1189        0  \n",
       "5           1  \n",
       "231         1  \n",
       "330         1  \n",
       "887         1  \n",
       "531         1  \n",
       "790         1  \n",
       "427         1  \n",
       "1260        0  \n",
       "251         0  \n",
       "486         1  \n",
       "436         0  \n",
       "31          1  \n",
       "186         0  \n",
       "1051        1  "
      ]
     },
     "execution_count": 29,
     "metadata": {},
     "output_type": "execute_result"
    }
   ],
   "source": [
    "X_test.head(20)"
   ]
  },
  {
   "cell_type": "code",
   "execution_count": 31,
   "metadata": {},
   "outputs": [],
   "source": [
    "X_test.to_csv(r'C://Users/48510/Desktop/ML/X_test.csv')\n",
    "X_train.to_csv(r'C://Users/48510/Desktop/ML/X_train.csv')\n",
    "y_train.to_csv(r'C://Users/48510/Desktop/ML/y_train.csv')\n",
    "y_test.to_csv(r'C://Users/48510/Desktop/ML/y_test.csv')"
   ]
  }
 ],
 "metadata": {
  "kernelspec": {
   "display_name": "Python py36",
   "language": "python",
   "name": "datascience"
  },
  "language_info": {
   "codemirror_mode": {
    "name": "ipython",
    "version": 3
   },
   "file_extension": ".py",
   "mimetype": "text/x-python",
   "name": "python",
   "nbconvert_exporter": "python",
   "pygments_lexer": "ipython3",
   "version": "3.6.10"
  }
 },
 "nbformat": 4,
 "nbformat_minor": 4
}
